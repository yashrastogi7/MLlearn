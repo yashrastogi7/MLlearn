{
 "cells": [
  {
   "cell_type": "code",
   "execution_count": 3,
   "id": "f9fd80c9",
   "metadata": {},
   "outputs": [
    {
     "name": "stdout",
     "output_type": "stream",
     "text": [
      "This is my first class\n",
      "This is my first class\n",
      "This is my first class\n",
      "This is my first class\n"
     ]
    }
   ],
   "source": [
    "print(\"This is my first class\")\n",
    "print(\"This is my first class\")\n",
    "print(\"This is my first class\")\n",
    "print(\"This is my first class\")"
   ]
  },
  {
   "cell_type": "markdown",
   "id": "948f2b66",
   "metadata": {},
   "source": [
    "# My name is Yash Rastogi. I study at MIT"
   ]
  },
  {
   "cell_type": "code",
   "execution_count": 4,
   "id": "0562d54c",
   "metadata": {},
   "outputs": [
    {
     "name": "stdout",
     "output_type": "stream",
     "text": [
      "hi\n"
     ]
    }
   ],
   "source": [
    "print('hi')"
   ]
  },
  {
   "cell_type": "code",
   "execution_count": 5,
   "id": "a8741389",
   "metadata": {},
   "outputs": [
    {
     "name": "stdout",
     "output_type": "stream",
     "text": [
      "hello\n"
     ]
    }
   ],
   "source": [
    "print(\"hello\")"
   ]
  },
  {
   "cell_type": "code",
   "execution_count": null,
   "id": "950ecc0c",
   "metadata": {},
   "outputs": [],
   "source": []
  },
  {
   "cell_type": "code",
   "execution_count": null,
   "id": "251829d5",
   "metadata": {},
   "outputs": [],
   "source": []
  }
 ],
 "metadata": {
  "kernelspec": {
   "display_name": "Python 3 (ipykernel)",
   "language": "python",
   "name": "python3"
  },
  "language_info": {
   "codemirror_mode": {
    "name": "ipython",
    "version": 3
   },
   "file_extension": ".py",
   "mimetype": "text/x-python",
   "name": "python",
   "nbconvert_exporter": "python",
   "pygments_lexer": "ipython3",
   "version": "3.9.7"
  }
 },
 "nbformat": 4,
 "nbformat_minor": 5
}
